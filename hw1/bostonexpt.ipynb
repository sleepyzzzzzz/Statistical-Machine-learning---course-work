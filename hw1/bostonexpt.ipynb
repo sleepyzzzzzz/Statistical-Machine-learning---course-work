{
 "cells": [
  {
   "cell_type": "code",
   "execution_count": 19,
   "metadata": {},
   "outputs": [
    {
     "name": "stdout",
     "output_type": "stream",
     "text": [
      "Optimization terminated successfully.\n",
      "         Current function value: 10.567052\n",
      "         Iterations: 41\n",
      "         Function evaluations: 48\n",
      "         Gradient evaluations: 48\n",
      "Training error: 10.567\n",
      "Validation error: 11.775\n",
      "Test error: 12.876\n"
     ]
    }
   ],
   "source": [
    "import numpy as np\n",
    "from sklearn.model_selection import train_test_split\n",
    "from sklearn.datasets import load_boston\n",
    "from sklearn.preprocessing import MinMaxScaler\n",
    "from reg_linear_regressor_multi import RegularizedLinearReg_SquaredLoss\n",
    "import matplotlib.pyplot as plt\n",
    "import plot_utils, utils\n",
    "\n",
    "X, y = load_boston(return_X_y=True)\n",
    "X_train, X_test, y_train, y_test = train_test_split(X, y, test_size=0.2, random_state=42)\n",
    "X_train, X_val, y_train, y_val = train_test_split(X_train, y_train, test_size=0.3, random_state=42)\n",
    "\n",
    "\n",
    "X_train_1 = np.ones((len(X_train),len(X_train[0])+1));\n",
    "X_train_1 = np.ones((len(X_train),len(X_train[0])+1));\n",
    "X_train_1[:,1:len(X_train_1)] = X_train;\n",
    "\n",
    "X_val_1 = np.ones((len(X_val),len(X_val[0])+1));\n",
    "X_val_1 = np.ones((len(X_val),len(X_val[0])+1));\n",
    "X_val_1[:,1:len(X_val_1)] = X_val;\n",
    "\n",
    "X_test_1 = np.ones((len(X_test),len(X_test[0])+1));\n",
    "X_test_1 = np.ones((len(X_test),len(X_test[0])+1));\n",
    "X_test_1[:,1:len(X_test_1)] = X_test;\n",
    "\n",
    "\n",
    "scaler = MinMaxScaler()\n",
    "scale_X_train = scaler.fit_transform(X_train_1);\n",
    "scale_X_train[:,0] = 1;\n",
    "scale_X_test = scaler.fit_transform(X_test_1);\n",
    "scale_X_test[:,0] = 1;\n",
    "scale_X_val = scaler.fit_transform(X_val_1);\n",
    "scale_X_val[:,0] = 1;\n",
    "\n",
    "\n",
    "regression = RegularizedLinearReg_SquaredLoss()\n",
    "theta = regression.train(X_train_1, y_train, 0, num_iters=10000)\n",
    "\n",
    "train_error = regression.loss(theta, X_train_1, y_train, 0)\n",
    "val_error = regression.loss(theta, X_val_1, y_val, 0)\n",
    "test_error = regression.loss(theta, X_test_1, y_test, 0)\n",
    "\n",
    "print(\"Training error: \" + str(train_error.round(3)))\n",
    "print(\"Validation error: \" + str(val_error.round(3)))\n",
    "print(\"Test error: \" + str(test_error.round(3)))"
   ]
  },
  {
   "cell_type": "code",
   "execution_count": 14,
   "metadata": {},
   "outputs": [
    {
     "name": "stdout",
     "output_type": "stream",
     "text": [
      "Optimization terminated successfully.\n",
      "         Current function value: 10.567052\n",
      "         Iterations: 86\n",
      "         Function evaluations: 87\n",
      "         Gradient evaluations: 87\n",
      "Optimization terminated successfully.\n",
      "         Current function value: 10.569499\n",
      "         Iterations: 86\n",
      "         Function evaluations: 87\n",
      "         Gradient evaluations: 87\n",
      "Optimization terminated successfully.\n",
      "         Current function value: 10.574391\n",
      "         Iterations: 86\n",
      "         Function evaluations: 87\n",
      "         Gradient evaluations: 87\n",
      "Optimization terminated successfully.\n",
      "         Current function value: 10.591480\n",
      "         Iterations: 86\n",
      "         Function evaluations: 87\n",
      "         Gradient evaluations: 87\n",
      "Optimization terminated successfully.\n",
      "         Current function value: 10.640045\n",
      "         Iterations: 85\n",
      "         Function evaluations: 86\n",
      "         Gradient evaluations: 86\n",
      "Optimization terminated successfully.\n",
      "         Current function value: 10.807104\n",
      "         Iterations: 85\n",
      "         Function evaluations: 86\n",
      "         Gradient evaluations: 86\n",
      "Optimization terminated successfully.\n",
      "         Current function value: 11.261915\n",
      "         Iterations: 79\n",
      "         Function evaluations: 80\n",
      "         Gradient evaluations: 80\n",
      "Optimization terminated successfully.\n",
      "         Current function value: 12.656086\n",
      "         Iterations: 70\n",
      "         Function evaluations: 71\n",
      "         Gradient evaluations: 71\n",
      "Optimization terminated successfully.\n",
      "         Current function value: 15.658576\n",
      "         Iterations: 64\n",
      "         Function evaluations: 65\n",
      "         Gradient evaluations: 65\n",
      "Optimization terminated successfully.\n",
      "         Current function value: 21.636516\n",
      "         Iterations: 46\n",
      "         Function evaluations: 47\n",
      "         Gradient evaluations: 47\n"
     ]
    },
    {
     "data": {
      "image/png": "[encoded data removed]",
      "text/plain": [
       "<Figure size 432x288 with 1 Axes>"
      ]
     },
     "metadata": {
      "needs_background": "light"
     },
     "output_type": "display_data"
    },
    {
     "name": "stdout",
     "output_type": "stream",
     "text": [
      "[11.79344739 11.79262428 11.79098413 11.78530681 11.7696009  11.72032192\n",
      " 11.61789177 11.50273559 11.85448992 14.19626863]\n",
      "1\n"
     ]
    }
   ],
   "source": [
    "###### Runing different lambda values ######\n",
    "\n",
    "reg_vec, train_error, val_error = utils.validation_curve(scale_X_train,y_train,scale_X_val,y_val)\n",
    "plot_utils.plot_lambda_selection(reg_vec,train_error,val_error)\n",
    "plt.show()\n",
    "print(val_error)\n",
    "print(reg_vec[np.argmin(val_error)])"
   ]
  },
  {
   "cell_type": "code",
   "execution_count": 15,
   "metadata": {},
   "outputs": [],
   "source": [
    "from utils import feature_normalize\n",
    "import sklearn\n",
    "from sklearn.preprocessing import PolynomialFeatures\n",
    "\n",
    "    \n",
    "p = 2\n",
    "poly = sklearn.preprocessing.PolynomialFeatures(degree=p,include_bias=False)\n",
    "X_poly = poly.fit_transform(X_train)\n",
    "X_poly, mu, sigma = utils.feature_normalize(X_poly)\n",
    "\n",
    "# add a column of ones to X_poly\n",
    "\n",
    "XX_poly = np.vstack([np.ones((X_poly.shape[0],)),X_poly.T]).T\n",
    "\n",
    "# map Xtest and Xval into the same polynomial features\n",
    "\n",
    "X_poly_test = poly.fit_transform(X_test)\n",
    "X_poly_val = poly.fit_transform(X_val)\n",
    "\n",
    "# normalize these two sets with the same mu and sigma\n",
    "\n",
    "X_poly_test = (X_poly_test - mu) / sigma\n",
    "X_poly_val = (X_poly_val - mu) / sigma\n",
    "\n",
    "# add a column of ones to both X_poly_test and X_poly_val\n",
    "XX_poly_test = np.vstack([np.ones((X_poly_test.shape[0],)),X_poly_test.T]).T\n",
    "XX_poly_val = np.vstack([np.ones((X_poly_val.shape[0],)),X_poly_val.T]).T\n",
    "\n",
    "\n"
   ]
  },
  {
   "cell_type": "code",
   "execution_count": 17,
   "metadata": {},
   "outputs": [
    {
     "name": "stdout",
     "output_type": "stream",
     "text": [
      "Optimization terminated successfully.\n",
      "         Current function value: 1.695449\n",
      "         Iterations: 943\n",
      "         Function evaluations: 947\n",
      "         Gradient evaluations: 947\n",
      "Optimization terminated successfully.\n",
      "         Current function value: 1.736492\n",
      "         Iterations: 711\n",
      "         Function evaluations: 715\n",
      "         Gradient evaluations: 715\n",
      "Optimization terminated successfully.\n",
      "         Current function value: 1.790810\n",
      "         Iterations: 636\n",
      "         Function evaluations: 640\n",
      "         Gradient evaluations: 640\n",
      "Optimization terminated successfully.\n",
      "         Current function value: 1.918542\n",
      "         Iterations: 497\n",
      "         Function evaluations: 501\n",
      "         Gradient evaluations: 501\n",
      "Optimization terminated successfully.\n",
      "         Current function value: 2.135598\n",
      "         Iterations: 382\n",
      "         Function evaluations: 386\n",
      "         Gradient evaluations: 386\n",
      "Optimization terminated successfully.\n",
      "         Current function value: 2.509778\n",
      "         Iterations: 270\n",
      "         Function evaluations: 274\n",
      "         Gradient evaluations: 274\n",
      "Optimization terminated successfully.\n",
      "         Current function value: 3.003776\n",
      "         Iterations: 187\n",
      "         Function evaluations: 191\n",
      "         Gradient evaluations: 191\n",
      "Optimization terminated successfully.\n",
      "         Current function value: 3.805723\n",
      "         Iterations: 124\n",
      "         Function evaluations: 128\n",
      "         Gradient evaluations: 128\n",
      "Optimization terminated successfully.\n",
      "         Current function value: 4.877865\n",
      "         Iterations: 83\n",
      "         Function evaluations: 87\n",
      "         Gradient evaluations: 87\n",
      "Optimization terminated successfully.\n",
      "         Current function value: 6.484893\n",
      "         Iterations: 50\n",
      "         Function evaluations: 54\n",
      "         Gradient evaluations: 54\n"
     ]
    },
    {
     "data": {
      "image/png": "[encoded data removed]",
      "text/plain": [
       "<Figure size 432x288 with 1 Axes>"
      ]
     },
     "metadata": {
      "needs_background": "light"
     },
     "output_type": "display_data"
    },
    {
     "name": "stdout",
     "output_type": "stream",
     "text": [
      "[9.37119672 9.47616991 9.40729055 9.04601976 8.41454612 7.73241556\n",
      " 7.34700496 7.11094021 7.20590781 7.94874792]\n",
      "1\n",
      "Optimization terminated successfully.\n",
      "         Current function value: 3.805723\n",
      "         Iterations: 124\n",
      "         Function evaluations: 128\n",
      "         Gradient evaluations: 128\n",
      "6.193396024852395\n"
     ]
    }
   ],
   "source": [
    "###### Runing different lambda values ######\n",
    "\n",
    "reg_vec, train_error, val_error = utils.validation_curve(XX_poly,y_train,XX_poly_val,y_val)\n",
    "plot_utils.plot_lambda_selection(reg_vec,train_error,val_error)\n",
    "plt.show()\n",
    "print(val_error)\n",
    "print(reg_vec[np.argmin(val_error)])\n",
    "theta = regression.train(XX_poly, y_train, 1, num_iters=10000)\n",
    "test_error = regression.loss(theta, XX_poly_test, y_test, 0)\n",
    "print(test_error)"
   ]
  },
  {
   "cell_type": "code",
   "execution_count": 20,
   "metadata": {},
   "outputs": [
    {
     "name": "stdout",
     "output_type": "stream",
     "text": [
      "Optimization terminated successfully.\n",
      "         Current function value: 0.003332\n",
      "         Iterations: 2190\n",
      "         Function evaluations: 2200\n",
      "         Gradient evaluations: 2200\n",
      "Optimization terminated successfully.\n",
      "         Current function value: 0.340732\n",
      "         Iterations: 1087\n",
      "         Function evaluations: 1095\n",
      "         Gradient evaluations: 1095\n",
      "Optimization terminated successfully.\n",
      "         Current function value: 0.511091\n",
      "         Iterations: 870\n",
      "         Function evaluations: 878\n",
      "         Gradient evaluations: 878\n",
      "Optimization terminated successfully.\n",
      "         Current function value: 0.733071\n",
      "         Iterations: 637\n",
      "         Function evaluations: 645\n",
      "         Gradient evaluations: 645\n",
      "Optimization terminated successfully.\n",
      "         Current function value: 0.954465\n",
      "         Iterations: 469\n",
      "         Function evaluations: 477\n",
      "         Gradient evaluations: 477\n",
      "Optimization terminated successfully.\n",
      "         Current function value: 1.224971\n",
      "         Iterations: 319\n",
      "         Function evaluations: 327\n",
      "         Gradient evaluations: 327\n",
      "Optimization terminated successfully.\n",
      "         Current function value: 1.535728\n",
      "         Iterations: 219\n",
      "         Function evaluations: 227\n",
      "         Gradient evaluations: 227\n",
      "Optimization terminated successfully.\n",
      "         Current function value: 2.009360\n",
      "         Iterations: 140\n",
      "         Function evaluations: 148\n",
      "         Gradient evaluations: 148\n",
      "Optimization terminated successfully.\n",
      "         Current function value: 2.628944\n",
      "         Iterations: 91\n",
      "         Function evaluations: 100\n",
      "         Gradient evaluations: 100\n",
      "Optimization terminated successfully.\n",
      "         Current function value: 3.623942\n",
      "         Iterations: 58\n",
      "         Function evaluations: 66\n",
      "         Gradient evaluations: 66\n"
     ]
    },
    {
     "data": {
      "image/png": "[encoded data removed]",
      "text/plain": [
       "<Figure size 432x288 with 1 Axes>"
      ]
     },
     "metadata": {
      "needs_background": "light"
     },
     "output_type": "display_data"
    },
    {
     "name": "stdout",
     "output_type": "stream",
     "text": [
      "[260.57564585  56.01337366  32.11965505  17.33685227   9.8837789\n",
      "   6.42509262   5.75042894   6.11176762   6.6522461    7.16102025]\n",
      "0.3\n",
      "Optimization terminated successfully.\n",
      "         Current function value: 1.535728\n",
      "         Iterations: 219\n",
      "         Function evaluations: 227\n",
      "         Gradient evaluations: 227\n",
      "6.944319487411757\n"
     ]
    }
   ],
   "source": [
    "p = 3\n",
    "poly = sklearn.preprocessing.PolynomialFeatures(degree=p,include_bias=False)\n",
    "X_poly = poly.fit_transform(X_train)\n",
    "X_poly, mu, sigma = utils.feature_normalize(X_poly)\n",
    "\n",
    "# add a column of ones to X_poly\n",
    "\n",
    "XX_poly = np.vstack([np.ones((X_poly.shape[0],)),X_poly.T]).T\n",
    "\n",
    "# map Xtest and Xval into the same polynomial features\n",
    "\n",
    "X_poly_test = poly.fit_transform(X_test)\n",
    "X_poly_val = poly.fit_transform(X_val)\n",
    "\n",
    "# normalize these two sets with the same mu and sigma\n",
    "\n",
    "X_poly_test = (X_poly_test - mu) / sigma\n",
    "X_poly_val = (X_poly_val - mu) / sigma\n",
    "\n",
    "# add a column of ones to both X_poly_test and X_poly_val\n",
    "XX_poly_test = np.vstack([np.ones((X_poly_test.shape[0],)),X_poly_test.T]).T\n",
    "XX_poly_val = np.vstack([np.ones((X_poly_val.shape[0],)),X_poly_val.T]).T\n",
    "\n",
    "###### Runing different lambda values ######\n",
    "\n",
    "reg_vec, train_error, val_error = utils.validation_curve(XX_poly,y_train,XX_poly_val,y_val)\n",
    "plot_utils.plot_lambda_selection(reg_vec,train_error,val_error)\n",
    "plt.show()\n",
    "print(val_error)\n",
    "print(reg_vec[np.argmin(val_error)])\n",
    "theta = regression.train(XX_poly, y_train, .3, num_iters=10000)\n",
    "test_error = regression.loss(theta, XX_poly_test, y_test, 0)\n",
    "print(test_error)"
   ]
  },
  {
   "cell_type": "code",
   "execution_count": null,
   "metadata": {},
   "outputs": [],
   "source": []
  },
  {
   "cell_type": "code",
   "execution_count": null,
   "metadata": {},
   "outputs": [],
   "source": []
  }
 ],
 "metadata": {
  "kernelspec": {
   "display_name": "Python 3",
   "language": "python",
   "name": "python3"
  },
  "language_info": {
   "codemirror_mode": {
    "name": "ipython",
    "version": 3
   },
   "file_extension": ".py",
   "mimetype": "text/x-python",
   "name": "python",
   "nbconvert_exporter": "python",
   "pygments_lexer": "ipython3",
   "version": "3.5.5"
  }
 },
 "nbformat": 4,
 "nbformat_minor": 4
}
