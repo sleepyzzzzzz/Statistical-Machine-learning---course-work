{
 "cells": [
  {
   "cell_type": "markdown",
   "metadata": {},
   "source": [
    "# Multiclass Support Vector Machines\n",
    "In this exercise you will:\n",
    "- implement a fully-vectorized loss function for the multi-class SVM\n",
    "- implement the fully-vectorized expression for its analytic gradient\n",
    "- check your implementation using numerical gradient\n",
    "- use a validation set to tune the learning rate and regularization strength\n",
    "- optimize the loss function with SGD\n",
    "- visualize the final learned parameters"
   ]
  },
  {
   "cell_type": "code",
   "execution_count": 1,
   "metadata": {},
   "outputs": [],
   "source": [
    "# Run some setup code for this notebook.\n",
    "\n",
    "import random\n",
    "import numpy as np\n",
    "from data_utils import load_CIFAR10\n",
    "import matplotlib.pyplot as plt\n",
    "\n",
    "# This is a bit of magic to make matplotlib figures appear inline in the\n",
    "# notebook rather than in a new window.\n",
    "%matplotlib inline\n",
    "plt.rcParams['figure.figsize'] = (10.0, 8.0) # set default size of plots\n",
    "plt.rcParams['image.interpolation'] = 'nearest'\n",
    "plt.rcParams['image.cmap'] = 'gray'\n",
    "\n",
    "# Some more magic so that the notebook will reload external python modules;\n",
    "# see http://stackoverflow.com/questions/1907993/autoreload-of-modules-in-ipython\n",
    "%load_ext autoreload\n",
    "%autoreload 2"
   ]
  },
  {
   "cell_type": "markdown",
   "metadata": {},
   "source": [
    "## CIFAR-10 Data Loading and Preprocessing\n",
    "Open up a terminal window and navigate to the datasets folder inside the hw3 folder. Run the get_datasets.sh script. On my Mac, I just type in ./get_datasets.sh at the shell prompt. A new folder called cifar_10_batches_py will be created and it will contain 50000 labeled images for training and  10000 labeled images for testing. The function further partitions the  50000 training images into a train set and a validation set for selection of hyperparameters. We have provided a function to read this data in **data_utils.py**. Each image is a  32×32\n",
    "array of RGB triples. It is preprocessed by subtracting the mean image from all images. We flatten each image into a 1-dimensional array of size 3072 (i.e.,  32×32×3). Then a 1 is appended to the front of that vector to handle the intercept term. So the training set is a numpy matrix of size  49000×3073, the validation set is a matrix of size  1000×3073 and the set-aside test set is of size  10000×3073. We also have a random sample of 500 images from the training data to serve as a development set or dev set to test our gradient and loss function implementations."
   ]
  },
  {
   "cell_type": "code",
   "execution_count": 2,
   "metadata": {},
   "outputs": [
    {
     "name": "stdout",
     "output_type": "stream",
     "text": [
      "Train data shape: 49000,32,32,3\n",
      "Train labels shape: 49000\n",
      "Validation data shape: 1000,32,32,3\n",
      "Validation labels shape: 1000\n",
      "Test data shape: 10000,32,32,3\n",
      "Test labels shape: 10000\n",
      "Training data shape: (49000, 3072)\n",
      "Validation data shape: (1000, 3072)\n",
      "Test data shape: (10000, 3072)\n",
      "dev data shape: (500, 3072)\n",
      "Training data shape with bias term: (49000, 3073) \n",
      "Validation data shape with bias term: (1000, 3073)\n",
      "Test data shape with bias term: (10000, 3073)\n",
      "Devset data shape with bias term: (500, 3073)\n"
     ]
    }
   ],
   "source": [
    "import data_utils\n",
    "\n",
    "# Get the CIFAR-10 data broken up into train, validation and test sets\n",
    "\n",
    "X_train, y_train, X_val, y_val, X_dev, y_dev, X_test, y_test = data_utils.get_CIFAR10_data()"
   ]
  },
  {
   "cell_type": "markdown",
   "metadata": {},
   "source": [
    "## SVM Classifier\n",
    "Your code for this section will all be written inside **linear_svm.py**.\n",
    "You will need to write the function **naive_loss_svm** which uses for loops to evaluate the multiclass SVM loss function."
   ]
  },
  {
   "cell_type": "code",
   "execution_count": 4,
   "metadata": {},
   "outputs": [
    {
     "name": "stdout",
     "output_type": "stream",
     "text": [
      "loss: 8.932617\n",
      "grad: %s [[-1.32573124e+01 -9.61588501e+00  1.15870158e+01 ... -1.04285813e+00\n",
      "  -1.32799113e+01 -3.55558672e+01]\n",
      " [-2.41663506e+01 -5.79679172e+00  1.14606354e+01 ... -1.82728245e+00\n",
      "  -2.41218355e+01 -4.03263156e+01]\n",
      " [-4.46203171e+01 -6.74965875e+00  2.40306019e+01 ... -1.03261200e+00\n",
      "  -4.30830551e+01 -5.11870734e+01]\n",
      " ...\n",
      " [-1.04183065e+01 -7.39546713e+00  5.41838768e+00 ... -8.96800243e+00\n",
      "   1.69410158e+01 -9.85790150e+00]\n",
      " [-2.36022750e+01 -1.36067831e+01  1.32371792e+01 ...  5.56467090e+00\n",
      "  -2.15358508e+00 -1.38575320e+01]\n",
      " [-3.55102041e-03  1.34693878e-03 -1.99591837e-02 ...  3.53061224e-03\n",
      "  -3.28571429e-03  6.18367347e-03]]\n"
     ]
    }
   ],
   "source": [
    "# Evaluate the naive implementation of the loss we provided for you:\n",
    "from linear_svm import svm_loss_naive\n",
    "import time\n",
    "\n",
    "# generate a random SVM coefficient matrix of small numbers\n",
    "theta = np.random.randn(3073, 10) * 0.0001 \n",
    "\n",
    "loss, grad = svm_loss_naive(theta, X_train, y_train, 0.00001)\n",
    "print('loss: %f' % (loss, ))\n",
    "print('grad: %s', grad)"
   ]
  },
  {
   "cell_type": "markdown",
   "metadata": {},
   "source": [
    "The grad returned from the function above is right now all zero. Derive and implement the gradient for the SVM cost function and implement it inline inside the function **svm_loss_naive**. You will find it helpful to interleave your new code inside the existing function.\n",
    "To check that you have correctly implemented the gradient, you can numerically estimate the gradient of the loss function and compare the numeric estimate to the gradient that you computed. We have provided code that does this for you."
   ]
  },
  {
   "cell_type": "code",
   "execution_count": 6,
   "metadata": {},
   "outputs": [
    {
     "name": "stdout",
     "output_type": "stream",
     "text": [
      "numerical: 4.024066 analytic: 4.024066, relative error: 1.937285e-11\n",
      "numerical: -26.809499 analytic: -26.809499, relative error: 7.767416e-12\n",
      "numerical: -31.753507 analytic: -31.753507, relative error: 1.314471e-12\n",
      "numerical: 23.979156 analytic: 23.979156, relative error: 2.974799e-12\n",
      "numerical: 15.056026 analytic: 15.056026, relative error: 3.257484e-11\n",
      "numerical: 26.940215 analytic: 26.940215, relative error: 8.374987e-12\n",
      "numerical: -14.671058 analytic: -14.671058, relative error: 8.245963e-12\n",
      "numerical: -12.618127 analytic: -12.618127, relative error: 1.034910e-11\n",
      "numerical: 19.450103 analytic: 19.450103, relative error: 1.447563e-12\n",
      "numerical: 1.039580 analytic: 1.039580, relative error: 1.646104e-10\n",
      "numerical: -4.623496 analytic: -4.623496, relative error: 4.368368e-11\n",
      "numerical: -1.299563 analytic: -1.299563, relative error: 2.445864e-10\n",
      "numerical: 7.815373 analytic: 7.815373, relative error: 1.044722e-11\n",
      "numerical: 11.990906 analytic: 11.990906, relative error: 6.439733e-13\n",
      "numerical: 13.492622 analytic: 13.492622, relative error: 7.691816e-12\n",
      "numerical: -14.105019 analytic: -14.105019, relative error: 1.747187e-11\n",
      "numerical: -8.020067 analytic: -8.020067, relative error: 3.978054e-12\n",
      "numerical: -23.450668 analytic: -23.450668, relative error: 4.768151e-12\n",
      "numerical: 35.242433 analytic: 35.242433, relative error: 9.411420e-13\n",
      "numerical: 20.364007 analytic: 20.364007, relative error: 7.253018e-12\n"
     ]
    }
   ],
   "source": [
    "# Once you've implemented the gradient, recompute it with the code below\n",
    "# and gradient check it with the function we provided for you\n",
    "\n",
    "# Compute the loss and its gradient at theta.\n",
    "loss, grad = svm_loss_naive(theta, X_dev, y_dev, 0.0)\n",
    "\n",
    "# Numerically compute the gradient along several randomly chosen dimensions, and\n",
    "# compare them with your analytically computed gradient. The numbers should match\n",
    "# almost exactly along all dimensions.\n",
    "from gradient_check import grad_check_sparse\n",
    "f = lambda th: svm_loss_naive(th, X_dev, y_dev, 0.0)[0]\n",
    "grad_numerical = grad_check_sparse(f, theta, grad)\n",
    "\n",
    "# do the gradient check once again with regularization turned on\n",
    "# you didn't forget the regularization gradient did you?\n",
    "loss, grad = svm_loss_naive(theta, X_dev, y_dev, 1e2)\n",
    "f = lambda w: svm_loss_naive(theta, X_dev, y_dev, 1e2)[0]\n",
    "grad_numerical = grad_check_sparse(f, theta, grad)"
   ]
  },
  {
   "cell_type": "code",
   "execution_count": 7,
   "metadata": {},
   "outputs": [
    {
     "name": "stdout",
     "output_type": "stream",
     "text": [
      "Naive loss: 8.625445e+00 computed in 0.125370s\n",
      "Vectorized loss: 8.656330e-05 computed in 0.015620s\n",
      "Difference: 8.625359\n"
     ]
    }
   ],
   "source": [
    "# Next implement the function svm_loss_vectorized; for now only compute the loss;\n",
    "# we will implement the gradient in a moment.\n",
    "tic = time.time()\n",
    "loss_naive, grad_naive = svm_loss_naive(theta, X_dev, y_dev, 0.00001)\n",
    "toc = time.time()\n",
    "print('Naive loss: %e computed in %fs' % (loss_naive, toc - tic))\n",
    "\n",
    "from linear_svm import svm_loss_vectorized\n",
    "tic = time.time()\n",
    "loss_vectorized, _ = svm_loss_vectorized(theta, X_dev, y_dev, 0.00001)\n",
    "toc = time.time()\n",
    "print('Vectorized loss: %e computed in %fs' % (loss_vectorized, toc - tic))\n",
    "\n",
    "# The losses should match but your vectorized implementation should be much faster.\n",
    "print('Difference: %f' % (loss_naive - loss_vectorized))"
   ]
  },
  {
   "cell_type": "markdown",
   "metadata": {},
   "source": [
    "## Vectorized version of the gradient computation\n",
    "Complete the implementation of svm_loss_vectorized, and compute the gradient\n",
    "of the loss function in a vectorized way.\n",
    "\n"
   ]
  },
  {
   "cell_type": "code",
   "execution_count": 8,
   "metadata": {},
   "outputs": [
    {
     "name": "stdout",
     "output_type": "stream",
     "text": [
      "Naive loss and gradient: computed in 0.127679s\n",
      "Vectorized loss and gradient: computed in 0.000000s\n",
      "Difference: 0.000000\n"
     ]
    }
   ],
   "source": [
    "# The naive implementation and the vectorized implementation should match, but\n",
    "# the vectorized version should still be much faster.\n",
    "tic = time.time()\n",
    "_, grad_naive = svm_loss_naive(theta, X_dev, y_dev, 0.00001)\n",
    "toc = time.time()\n",
    "print('Naive loss and gradient: computed in %fs' % (toc - tic))\n",
    "\n",
    "tic = time.time()\n",
    "_, grad_vectorized = svm_loss_vectorized(theta, X_dev, y_dev, 0.00001)\n",
    "toc = time.time()\n",
    "print('Vectorized loss and gradient: computed in %fs' % (toc - tic))\n",
    "\n",
    "# The loss is a single number, so it is easy to compare the values computed\n",
    "# by the two implementations. The gradient on the other hand is a matrix, so\n",
    "# we use the Frobenius norm to compare them.\n",
    "difference = np.linalg.norm(grad_naive - grad_vectorized, ord='fro')\n",
    "print('Difference: %f' % difference)"
   ]
  },
  {
   "cell_type": "code",
   "execution_count": 11,
   "metadata": {},
   "outputs": [
    {
     "name": "stdout",
     "output_type": "stream",
     "text": [
      "iteration 0 / 15000: loss 26.986996\n",
      "iteration 100 / 15000: loss 15.573111\n",
      "iteration 200 / 15000: loss 14.444177\n",
      "iteration 300 / 15000: loss 10.994066\n",
      "iteration 400 / 15000: loss 11.948708\n",
      "iteration 500 / 15000: loss 11.120733\n",
      "iteration 600 / 15000: loss 11.209073\n",
      "iteration 700 / 15000: loss 9.663996\n",
      "iteration 800 / 15000: loss 10.338335\n",
      "iteration 900 / 15000: loss 9.359184\n",
      "iteration 1000 / 15000: loss 9.753670\n",
      "iteration 1100 / 15000: loss 10.287506\n",
      "iteration 1200 / 15000: loss 9.528216\n",
      "iteration 1300 / 15000: loss 10.345729\n",
      "iteration 1400 / 15000: loss 9.785889\n",
      "iteration 1500 / 15000: loss 9.813242\n",
      "iteration 1600 / 15000: loss 9.619656\n",
      "iteration 1700 / 15000: loss 9.596402\n",
      "iteration 1800 / 15000: loss 9.456643\n",
      "iteration 1900 / 15000: loss 8.883274\n",
      "iteration 2000 / 15000: loss 9.112297\n",
      "iteration 2100 / 15000: loss 9.504633\n",
      "iteration 2200 / 15000: loss 9.093822\n",
      "iteration 2300 / 15000: loss 9.623335\n",
      "iteration 2400 / 15000: loss 9.098857\n",
      "iteration 2500 / 15000: loss 9.305231\n",
      "iteration 2600 / 15000: loss 9.302708\n",
      "iteration 2700 / 15000: loss 7.784289\n",
      "iteration 2800 / 15000: loss 8.486266\n",
      "iteration 2900 / 15000: loss 9.045667\n",
      "iteration 3000 / 15000: loss 8.790941\n",
      "iteration 3100 / 15000: loss 8.896387\n",
      "iteration 3200 / 15000: loss 9.042582\n",
      "iteration 3300 / 15000: loss 8.586577\n",
      "iteration 3400 / 15000: loss 9.010801\n",
      "iteration 3500 / 15000: loss 7.465913\n",
      "iteration 3600 / 15000: loss 9.079200\n",
      "iteration 3700 / 15000: loss 7.945228\n",
      "iteration 3800 / 15000: loss 8.278778\n",
      "iteration 3900 / 15000: loss 8.764930\n",
      "iteration 4000 / 15000: loss 7.973250\n",
      "iteration 4100 / 15000: loss 7.293098\n",
      "iteration 4200 / 15000: loss 7.964275\n",
      "iteration 4300 / 15000: loss 8.042304\n",
      "iteration 4400 / 15000: loss 7.862999\n",
      "iteration 4500 / 15000: loss 7.507459\n",
      "iteration 4600 / 15000: loss 8.295264\n",
      "iteration 4700 / 15000: loss 8.089333\n",
      "iteration 4800 / 15000: loss 7.221408\n",
      "iteration 4900 / 15000: loss 7.758718\n",
      "iteration 5000 / 15000: loss 7.637104\n",
      "iteration 5100 / 15000: loss 7.763488\n",
      "iteration 5200 / 15000: loss 7.982521\n",
      "iteration 5300 / 15000: loss 7.473221\n",
      "iteration 5400 / 15000: loss 7.501243\n",
      "iteration 5500 / 15000: loss 7.817839\n",
      "iteration 5600 / 15000: loss 8.064457\n",
      "iteration 5700 / 15000: loss 7.230401\n",
      "iteration 5800 / 15000: loss 7.339863\n",
      "iteration 5900 / 15000: loss 7.851809\n",
      "iteration 6000 / 15000: loss 7.272767\n",
      "iteration 6100 / 15000: loss 6.711879\n",
      "iteration 6200 / 15000: loss 7.199758\n",
      "iteration 6300 / 15000: loss 6.757225\n",
      "iteration 6400 / 15000: loss 8.289338\n",
      "iteration 6500 / 15000: loss 6.941377\n",
      "iteration 6600 / 15000: loss 7.270603\n",
      "iteration 6700 / 15000: loss 7.384249\n",
      "iteration 6800 / 15000: loss 7.067102\n",
      "iteration 6900 / 15000: loss 6.440645\n",
      "iteration 7000 / 15000: loss 6.862710\n",
      "iteration 7100 / 15000: loss 7.189412\n",
      "iteration 7200 / 15000: loss 7.118471\n",
      "iteration 7300 / 15000: loss 6.955201\n",
      "iteration 7400 / 15000: loss 6.850841\n",
      "iteration 7500 / 15000: loss 7.438098\n",
      "iteration 7600 / 15000: loss 6.966463\n",
      "iteration 7700 / 15000: loss 6.891696\n",
      "iteration 7800 / 15000: loss 7.319618\n",
      "iteration 7900 / 15000: loss 7.321293\n",
      "iteration 8000 / 15000: loss 6.964366\n",
      "iteration 8100 / 15000: loss 6.828169\n",
      "iteration 8200 / 15000: loss 7.086010\n",
      "iteration 8300 / 15000: loss 7.081951\n",
      "iteration 8400 / 15000: loss 6.629279\n",
      "iteration 8500 / 15000: loss 6.399581\n",
      "iteration 8600 / 15000: loss 6.702272\n",
      "iteration 8700 / 15000: loss 7.218100\n",
      "iteration 8800 / 15000: loss 7.032592\n",
      "iteration 8900 / 15000: loss 6.561499\n",
      "iteration 9000 / 15000: loss 6.815071\n",
      "iteration 9100 / 15000: loss 6.410709\n",
      "iteration 9200 / 15000: loss 6.620260\n",
      "iteration 9300 / 15000: loss 6.980682\n",
      "iteration 9400 / 15000: loss 6.624883\n",
      "iteration 9500 / 15000: loss 6.387082\n",
      "iteration 9600 / 15000: loss 7.393561\n",
      "iteration 9700 / 15000: loss 6.004528\n",
      "iteration 9800 / 15000: loss 6.199362\n",
      "iteration 9900 / 15000: loss 6.577188\n",
      "iteration 10000 / 15000: loss 6.435612\n",
      "iteration 10100 / 15000: loss 6.633795\n",
      "iteration 10200 / 15000: loss 6.368837\n",
      "iteration 10300 / 15000: loss 6.755118\n",
      "iteration 10400 / 15000: loss 6.567082\n",
      "iteration 10500 / 15000: loss 6.288822\n",
      "iteration 10600 / 15000: loss 6.321967\n",
      "iteration 10700 / 15000: loss 6.713414\n",
      "iteration 10800 / 15000: loss 5.834356\n",
      "iteration 10900 / 15000: loss 6.550911\n",
      "iteration 11000 / 15000: loss 5.897090\n",
      "iteration 11100 / 15000: loss 7.239963\n",
      "iteration 11200 / 15000: loss 6.115755\n",
      "iteration 11300 / 15000: loss 5.915178\n",
      "iteration 11400 / 15000: loss 5.831688\n",
      "iteration 11500 / 15000: loss 6.168933\n",
      "iteration 11600 / 15000: loss 6.645642\n",
      "iteration 11700 / 15000: loss 6.260757\n",
      "iteration 11800 / 15000: loss 6.464511\n",
      "iteration 11900 / 15000: loss 5.862529\n",
      "iteration 12000 / 15000: loss 5.955195\n",
      "iteration 12100 / 15000: loss 5.799395\n",
      "iteration 12200 / 15000: loss 5.896299\n",
      "iteration 12300 / 15000: loss 6.873918\n",
      "iteration 12400 / 15000: loss 5.794372\n",
      "iteration 12500 / 15000: loss 5.852248\n",
      "iteration 12600 / 15000: loss 6.437890\n",
      "iteration 12700 / 15000: loss 5.998339\n",
      "iteration 12800 / 15000: loss 5.405199\n",
      "iteration 12900 / 15000: loss 6.304387\n",
      "iteration 13000 / 15000: loss 5.499430\n",
      "iteration 13100 / 15000: loss 6.136508\n",
      "iteration 13200 / 15000: loss 6.442635\n",
      "iteration 13300 / 15000: loss 5.885234\n",
      "iteration 13400 / 15000: loss 5.976477\n",
      "iteration 13500 / 15000: loss 5.434045\n",
      "iteration 13600 / 15000: loss 6.218526\n",
      "iteration 13700 / 15000: loss 5.396055\n",
      "iteration 13800 / 15000: loss 5.850752\n",
      "iteration 13900 / 15000: loss 6.278347\n",
      "iteration 14000 / 15000: loss 5.859948\n",
      "iteration 14100 / 15000: loss 6.266421\n",
      "iteration 14200 / 15000: loss 6.283199\n",
      "iteration 14300 / 15000: loss 5.765451\n",
      "iteration 14400 / 15000: loss 6.032463\n",
      "iteration 14500 / 15000: loss 5.807371\n",
      "iteration 14600 / 15000: loss 5.371478\n",
      "iteration 14700 / 15000: loss 5.500776\n",
      "iteration 14800 / 15000: loss 5.674370\n",
      "iteration 14900 / 15000: loss 5.578305\n",
      "That took 66.274153s\n"
     ]
    }
   ],
   "source": [
    "# In the file linear_classifier.py, we have implemented SGD in the function\n",
    "# LinearClassifier.train() and you can run it with the code below.\n",
    "from linear_classifier import LinearSVM\n",
    "svm = LinearSVM()\n",
    "tic = time.time()\n",
    "loss_hist = svm.train(X_train, y_train, learning_rate=1e-7, reg=5e4,\n",
    "                      num_iters=15000, verbose=True)\n",
    "toc = time.time()\n",
    "print('That took %fs' % (toc - tic))"
   ]
  },
  {
   "cell_type": "code",
   "execution_count": 13,
   "metadata": {},
   "outputs": [
    {
     "data": {
      "image/png": "[encoded data removed]",
      "text/plain": [
       "<Figure size 432x288 with 1 Axes>"
      ]
     },
     "metadata": {
      "needs_background": "light"
     },
     "output_type": "display_data"
    }
   ],
   "source": [
    "# A useful debugging strategy is to plot the loss as a function of\n",
    "# iteration number:\n",
    "plt.plot(loss_hist)\n",
    "plt.xlabel('Iteration number')\n",
    "plt.ylabel('Loss value')\n",
    "plt.show()"
   ]
  },
  {
   "cell_type": "markdown",
   "metadata": {},
   "source": [
    "## Prediction with an SVM\n",
    "Compute $\\theta^T  x$ for a new example $x$ and pick the class with the highest score."
   ]
  },
  {
   "cell_type": "code",
   "execution_count": 15,
   "metadata": {},
   "outputs": [
    {
     "name": "stdout",
     "output_type": "stream",
     "text": [
      "training accuracy: 0.404367\n",
      "validation accuracy: 0.379000\n"
     ]
    }
   ],
   "source": [
    "# Write the LinearSVM.predict function and evaluate the performance on both the\n",
    "# training and validation set\n",
    "y_train_pred = svm.predict(X_train)\n",
    "print('training accuracy: %f' % (np.mean(y_train == y_train_pred), ))\n",
    "y_val_pred = svm.predict(X_val)\n",
    "print('validation accuracy: %f' % (np.mean(y_val == y_val_pred), ))"
   ]
  },
  {
   "cell_type": "code",
   "execution_count": 14,
   "metadata": {},
   "outputs": [
    {
     "name": "stdout",
     "output_type": "stream",
     "text": [
      "lr 1.000000e-08 reg 1.000000e+04 train accuracy: 0.302367 val accuracy: 0.314000\n",
      "lr 1.000000e-08 reg 5.000000e+04 train accuracy: 0.328980 val accuracy: 0.346000\n",
      "lr 1.000000e-08 reg 1.000000e+05 train accuracy: 0.347082 val accuracy: 0.357000\n",
      "lr 1.000000e-08 reg 5.000000e+05 train accuracy: 0.374082 val accuracy: 0.377000\n",
      "lr 5.000000e-08 reg 1.000000e+04 train accuracy: 0.362082 val accuracy: 0.342000\n",
      "lr 5.000000e-08 reg 5.000000e+04 train accuracy: 0.397429 val accuracy: 0.377000\n",
      "lr 5.000000e-08 reg 1.000000e+05 train accuracy: 0.417796 val accuracy: 0.392000\n",
      "lr 5.000000e-08 reg 5.000000e+05 train accuracy: 0.418429 val accuracy: 0.406000\n",
      "lr 1.000000e-07 reg 1.000000e+04 train accuracy: 0.389857 val accuracy: 0.373000\n",
      "lr 1.000000e-07 reg 5.000000e+04 train accuracy: 0.418694 val accuracy: 0.397000\n",
      "lr 1.000000e-07 reg 1.000000e+05 train accuracy: 0.429735 val accuracy: 0.396000\n",
      "lr 1.000000e-07 reg 5.000000e+05 train accuracy: 0.414776 val accuracy: 0.383000\n",
      "lr 5.000000e-07 reg 1.000000e+04 train accuracy: 0.414163 val accuracy: 0.386000\n",
      "lr 5.000000e-07 reg 5.000000e+04 train accuracy: 0.417184 val accuracy: 0.392000\n",
      "lr 5.000000e-07 reg 1.000000e+05 train accuracy: 0.402204 val accuracy: 0.381000\n",
      "lr 5.000000e-07 reg 5.000000e+05 train accuracy: 0.385082 val accuracy: 0.377000\n",
      "lr 1.000000e-06 reg 1.000000e+04 train accuracy: 0.394184 val accuracy: 0.367000\n",
      "lr 1.000000e-06 reg 5.000000e+04 train accuracy: 0.352531 val accuracy: 0.344000\n",
      "lr 1.000000e-06 reg 1.000000e+05 train accuracy: 0.370122 val accuracy: 0.353000\n",
      "lr 1.000000e-06 reg 5.000000e+05 train accuracy: 0.324612 val accuracy: 0.353000\n",
      "best validation accuracy achieved during cross-validation: 0.406000\n"
     ]
    }
   ],
   "source": [
    "# Use the validation set to tune hyperparameters (regularization strength and\n",
    "# learning rate). You should experiment with different ranges for the learning\n",
    "# rates and regularization strengths; if you are careful you should be able to\n",
    "# get a classification accuracy of about 0.38 or higher on the validation set.\n",
    "\n",
    "learning_rates = [1e-8, 5e-8, 1e-7, 5e-7, 1e-6]\n",
    "regularization_strengths = [1e4, 5e4, 1e5, 5e5]\n",
    "\n",
    "# results is dictionary mapping tuples of the form\n",
    "# (learning_rate, regularization_strength) to tuples of the form\n",
    "# (training_accuracy, validation_accuracy). The accuracy is simply the fraction\n",
    "# of data points that are correctly classified.\n",
    "results = {}\n",
    "best_val = -1   # The highest validation accuracy that we have seen so far.\n",
    "best_svm = None # The LinearSVM object that achieved the highest validation rate.\n",
    "\n",
    "################################################################################\n",
    "# TODO:                                                                        #\n",
    "# Write code that chooses the best hyperparameters by tuning on the validation #\n",
    "# set. For each combination of hyperparameters, train a linear SVM on the      #\n",
    "# training set, compute its accuracy on the training and validation sets, and  #\n",
    "# store these numbers in the results dictionary. In addition, store the best   #\n",
    "# validation accuracy in best_val and the LinearSVM object that achieves this  #\n",
    "# accuracy in best_svm.                                                        #\n",
    "#                                                                              #\n",
    "# Hint: You should use a small value for num_iters as you develop your         #\n",
    "# validation code so that the SVMs don't take much time to train; once you are #\n",
    "# confident that your validation code works, you should rerun the validation   #\n",
    "# code with a larger value for num_iters.                                      #\n",
    "################################################################################\n",
    "best_C = 0;\n",
    "best_lr = 0;\n",
    "\n",
    "for lr in learning_rates:\n",
    "    svm = LinearSVM()\n",
    "    for C in regularization_strengths:\n",
    "        \n",
    "        svm.train(X_train, y_train, learning_rate=lr, reg=C, num_iters=15000, verbose=False)\n",
    "        train_pred = svm.predict(X_train)\n",
    "    \n",
    "        val_pred = svm.predict(X_val)\n",
    "        acc_train = np.mean(y_train == train_pred)\n",
    "        acc_val = np.mean(y_val == val_pred)\n",
    "        results[(lr, C)] = (acc_train, acc_val)\n",
    "        if (acc_val > best_val):\n",
    "            best_lr = lr\n",
    "            best_C = C\n",
    "            best_val = acc_val\n",
    "            best_svm = svm\n",
    "\n",
    "\n",
    "################################################################################\n",
    "#                              END OF YOUR CODE                                #\n",
    "################################################################################\n",
    "    \n",
    "# Print out results.\n",
    "for lr, reg in sorted(results):\n",
    "    train_accuracy, val_accuracy = results[(lr, reg)]\n",
    "    print('lr %e reg %e train accuracy: %f val accuracy: %f' % (\n",
    "                lr, reg, train_accuracy, val_accuracy))\n",
    "    \n",
    "print('best validation accuracy achieved during cross-validation: %f' % best_val)"
   ]
  },
  {
   "cell_type": "code",
   "execution_count": 15,
   "metadata": {},
   "outputs": [
    {
     "data": {
      "image/png": "[encoded data removed]",
      "text/plain": [
       "<Figure size 432x288 with 4 Axes>"
      ]
     },
     "metadata": {
      "needs_background": "light"
     },
     "output_type": "display_data"
    }
   ],
   "source": [
    "# Visualize the cross-validation results\n",
    "import math\n",
    "x_scatter = [math.log10(x[0]) for x in results]\n",
    "y_scatter = [math.log10(x[1]) for x in results]\n",
    "\n",
    "# plot training accuracy\n",
    "marker_size = 100\n",
    "colors = [results[x][0] for x in results]\n",
    "plt.subplot(2, 1, 1)\n",
    "plt.scatter(x_scatter, y_scatter, marker_size, c=colors)\n",
    "plt.colorbar()\n",
    "plt.xlabel('log learning rate')\n",
    "plt.ylabel('log regularization strength')\n",
    "plt.title('CIFAR-10 training accuracy')\n",
    "\n",
    "# plot validation accuracy\n",
    "colors = [results[x][1] for x in results] # default size of markers is 20\n",
    "plt.subplot(2, 1, 2)\n",
    "plt.scatter(x_scatter, y_scatter, marker_size, c=colors)\n",
    "plt.colorbar()\n",
    "plt.xlabel('log learning rate')\n",
    "plt.ylabel('log regularization strength')\n",
    "plt.title('CIFAR-10 validation accuracy')\n",
    "plt.tight_layout()\n",
    "plt.show()"
   ]
  },
  {
   "cell_type": "code",
   "execution_count": 16,
   "metadata": {},
   "outputs": [
    {
     "name": "stdout",
     "output_type": "stream",
     "text": [
      "linear SVM on raw pixels final test set accuracy: 0.394000\n"
     ]
    }
   ],
   "source": [
    "# Evaluate the best svm on test set\n",
    "y_test_pred = best_svm.predict(X_test)\n",
    "test_accuracy = np.mean(y_test == y_test_pred)\n",
    "print('linear SVM on raw pixels final test set accuracy: %f' % test_accuracy)"
   ]
  },
  {
   "cell_type": "code",
   "execution_count": 17,
   "metadata": {},
   "outputs": [
    {
     "data": {
      "image/png": "[encoded data removed]",
      "text/plain": [
       "<Figure size 432x288 with 10 Axes>"
      ]
     },
     "metadata": {
      "needs_background": "light"
     },
     "output_type": "display_data"
    }
   ],
   "source": [
    "# Visualize the learned weights for each class.\n",
    "# Depending on your choice of learning rate and regularization strength, these may\n",
    "# or may not be nice to look at.\n",
    "\n",
    "theta = best_svm.theta[:-1,:] # strip out the bias\n",
    "theta = theta.reshape(32, 32, 3, 10)\n",
    "theta_min, theta_max = np.min(theta), np.max(theta)\n",
    "classes = ['plane', 'car', 'bird', 'cat', 'deer', 'dog', 'frog', 'horse', 'ship', 'truck']\n",
    "for i in range(10):\n",
    "  plt.subplot(2, 5, i + 1)\n",
    "    \n",
    "  # Rescale the weights to be between 0 and 255\n",
    "  thetaimg = 255.0 * (theta[:, :, :, i].squeeze() - theta_min) / (theta_max - theta_min)\n",
    "  plt.imshow(thetaimg.astype('uint8'))\n",
    "  plt.axis('off')\n",
    "  plt.title(classes[i])"
   ]
  },
  {
   "cell_type": "code",
   "execution_count": null,
   "metadata": {
    "collapsed": true
   },
   "outputs": [],
   "source": []
  }
 ],
 "metadata": {
  "anaconda-cloud": {},
  "kernelspec": {
   "display_name": "Python 3",
   "language": "python",
   "name": "python3"
  },
  "language_info": {
   "codemirror_mode": {
    "name": "ipython",
    "version": 3
   },
   "file_extension": ".py",
   "mimetype": "text/x-python",
   "name": "python",
   "nbconvert_exporter": "python",
   "pygments_lexer": "ipython3",
   "version": "3.7.4"
  }
 },
 "nbformat": 4,
 "nbformat_minor": 1
}
